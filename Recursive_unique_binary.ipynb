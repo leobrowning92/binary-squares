{
 "cells": [
  {
   "cell_type": "code",
   "execution_count": 169,
   "metadata": {},
   "outputs": [],
   "source": [
    "import numpy as np\n",
    "import matplotlib.pyplot as plt"
   ]
  },
  {
   "cell_type": "code",
   "execution_count": 22,
   "metadata": {},
   "outputs": [],
   "source": []
  },
  {
   "cell_type": "code",
   "execution_count": 158,
   "metadata": {},
   "outputs": [],
   "source": [
    "def increment(i,sequence,limit):\n",
    "    if i==len(sequence):\n",
    "        pass\n",
    "    sequence[i] = (sequence[i]+1)%(limit+1)\n",
    "    if sequence[i]==0:\n",
    "        sequence = increment(i+1,sequence,limit)\n",
    "    return sequence"
   ]
  },
  {
   "cell_type": "code",
   "execution_count": 159,
   "metadata": {},
   "outputs": [
    {
     "name": "stdout",
     "output_type": "stream",
     "text": [
      "[0, 0, 0]\n",
      "[1, 0, 0]\n",
      "[0, 1, 0]\n",
      "[1, 1, 0]\n",
      "[0, 0, 1]\n",
      "[1, 0, 1]\n",
      "[0, 1, 1]\n",
      "[1, 1, 1]\n"
     ]
    }
   ],
   "source": [
    "start = [0]*3\n",
    "limit = 1\n",
    "print(start)\n",
    "while True:\n",
    "    try:\n",
    "        print(increment(0,start,limit))\n",
    "    except:\n",
    "        break"
   ]
  },
  {
   "cell_type": "code",
   "execution_count": 160,
   "metadata": {},
   "outputs": [
    {
     "name": "stdout",
     "output_type": "stream",
     "text": [
      "broken\n",
      "[[0, 0, 0], [0, 0, 0], [0, 0, 0], [0, 0, 0], [0, 0, 0], [0, 0, 0], [0, 0, 0], [0, 0, 0]]\n"
     ]
    }
   ],
   "source": [
    "start = [0]*3\n",
    "limit = 1\n",
    "sequences = [start]\n",
    "while True:\n",
    "    try:\n",
    "        sequences.append(increment(0,start,limit))\n",
    "    except:\n",
    "        print(\"broken\")\n",
    "        break\n",
    "print(sequences)"
   ]
  },
  {
   "cell_type": "code",
   "execution_count": 161,
   "metadata": {},
   "outputs": [],
   "source": [
    "def unique_sequences(length):\n",
    "    start = [0]*length\n",
    "    limit = 1\n",
    "    sequences = [start]\n",
    "    while True:\n",
    "        try:\n",
    "            x = increment(0,start,limit)\n",
    "            sequences.append(x.copy())\n",
    "        except:\n",
    "            break\n",
    "    return sequences"
   ]
  },
  {
   "cell_type": "code",
   "execution_count": 162,
   "metadata": {},
   "outputs": [
    {
     "data": {
      "text/plain": [
       "[[0, 0, 0],\n",
       " [1, 0, 0],\n",
       " [0, 1, 0],\n",
       " [1, 1, 0],\n",
       " [0, 0, 1],\n",
       " [1, 0, 1],\n",
       " [0, 1, 1],\n",
       " [1, 1, 1]]"
      ]
     },
     "execution_count": 162,
     "metadata": {},
     "output_type": "execute_result"
    }
   ],
   "source": [
    "unique_sequences(3)"
   ]
  },
  {
   "cell_type": "code",
   "execution_count": 214,
   "metadata": {},
   "outputs": [],
   "source": [
    "def plot_square_grids(length,figsize=15,padding=0.05,gridlength=16):\n",
    "    size = length**2\n",
    "    seqs = unique_sequences(size)\n",
    "\n",
    "    grids = [np.array(seq).reshape(length,length) for seq in seqs]\n",
    "    fig, axes = plt.subplots(figsize=(figsize,figsize*(2**size)//gridlength/gridlength),facecolor='white', ncols=gridlength, nrows=(2**size)//gridlength)\n",
    "    for i, ax in enumerate(axes.flatten()):\n",
    "        ax.imshow(grids[i],vmin=0,vmax=1)\n",
    "        ax.axis('off')\n",
    "    plt.tight_layout()\n",
    "    plt.subplots_adjust(wspace=padding, hspace=padding)\n",
    "    plt.show()"
   ]
  },
  {
   "cell_type": "code",
   "execution_count": 216,
   "metadata": {},
   "outputs": [
    {
     "data": {
      "image/png": "[encoded data removed]",
      "text/plain": [
       "<Figure size 360x360 with 16 Axes>"
      ]
     },
     "metadata": {},
     "output_type": "display_data"
    }
   ],
   "source": [
    "plot_square_grids(2,figsize=5,gridlength=4)"
   ]
  },
  {
   "cell_type": "code",
   "execution_count": 219,
   "metadata": {},
   "outputs": [
    {
     "data": {
      "image/png": "[encoded data removed]",
      "text/plain": [
       "<Figure size 360x720 with 512 Axes>"
      ]
     },
     "metadata": {},
     "output_type": "display_data"
    }
   ],
   "source": [
    "plot_square_grids(3,figsize=5,padding=0.1)"
   ]
  },
  {
   "cell_type": "code",
   "execution_count": null,
   "metadata": {},
   "outputs": [],
   "source": []
  },
  {
   "cell_type": "code",
   "execution_count": null,
   "metadata": {},
   "outputs": [],
   "source": []
  }
 ],
 "metadata": {
  "kernelspec": {
   "display_name": "Python 3",
   "language": "python",
   "name": "python3"
  },
  "language_info": {
   "codemirror_mode": {
    "name": "ipython",
    "version": 3
   },
   "file_extension": ".py",
   "mimetype": "text/x-python",
   "name": "python",
   "nbconvert_exporter": "python",
   "pygments_lexer": "ipython3",
   "version": "3.7.5"
  }
 },
 "nbformat": 4,
 "nbformat_minor": 4
}
